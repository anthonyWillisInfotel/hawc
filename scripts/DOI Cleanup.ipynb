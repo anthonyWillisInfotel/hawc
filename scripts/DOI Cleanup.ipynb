{
 "cells": [
  {
   "cell_type": "markdown",
   "id": "3c8fbd23",
   "metadata": {},
   "source": [
    "# validating exisiting DOI identifiers"
   ]
  },
  {
   "cell_type": "code",
   "execution_count": 1,
   "id": "2994ceab",
   "metadata": {},
   "outputs": [],
   "source": [
    "import os\n",
    "\n",
    "import django"
   ]
  },
  {
   "cell_type": "code",
   "execution_count": 2,
   "id": "4dca0f5a",
   "metadata": {},
   "outputs": [],
   "source": [
    "os.environ.setdefault('DJANGO_SETTINGS_MODULE', \"hawc.main.settings.dev\")\n",
    "os.environ[\"DJANGO_ALLOW_ASYNC_UNSAFE\"] = \"true\"\n",
    "django.setup()"
   ]
  },
  {
   "cell_type": "code",
   "execution_count": 3,
   "id": "b66c7dfa",
   "metadata": {},
   "outputs": [],
   "source": [
    "from hawc.apps.lit.models import Identifiers, Reference"
   ]
  },
  {
   "cell_type": "code",
   "execution_count": 4,
   "id": "5cc1fbe6",
   "metadata": {},
   "outputs": [],
   "source": [
    "from hawc.apps.lit import constants"
   ]
  },
  {
   "cell_type": "code",
   "execution_count": 43,
   "id": "17ac3406",
   "metadata": {},
   "outputs": [],
   "source": [
    "doi_identifiers = Identifiers.objects.filter(database=4)"
   ]
  },
  {
   "cell_type": "code",
   "execution_count": 44,
   "id": "f28658e1",
   "metadata": {},
   "outputs": [],
   "source": [
    "# create list of pre-existing valid DOI ids to compare for duplicates\n",
    "doi_id_saved = []\n",
    "for doi_id in doi_identifiers:\n",
    "    if constants.DOI_EXACT.fullmatch(doi_id.unique_id):\n",
    "        doi_id_saved.append(doi_id.unique_id)"
   ]
  },
  {
   "cell_type": "code",
   "execution_count": 7,
   "id": "e00b68c7",
   "metadata": {},
   "outputs": [],
   "source": [
    "import html"
   ]
  },
  {
   "cell_type": "code",
   "execution_count": 8,
   "id": "13b868cf",
   "metadata": {},
   "outputs": [],
   "source": [
    "duplicate_doi_ids = {} #stores unclean DOIs that have a clean duplicate for updating later\n",
    "tarnished_doi_ids = [] #tarnished DOI IDs cannot be cleaned/validated (ex: '10')\n",
    "for doi_id in doi_identifiers:\n",
    "    new_doi = html.unescape(doi_id.unique_id) #converts html character references to actual Unicode characters (ex: &gt; to >)\n",
    "    if (constants.DOI_EXACT.fullmatch(new_doi) and new_doi not in doi_id_saved): #html conversion made a difference; update\n",
    "        doi_id.unique_id = new_doi\n",
    "        doi_id.save()\n",
    "        doi_id_saved.append(new_doi)\n",
    "    elif (constants.DOI_EXACT.fullmatch(new_doi) and new_doi != doi_id.unique_id): #html conversion made a difference but theres an existing duplicate\n",
    "        duplicate_doi_ids[new_doi] = doi_id\n",
    "    elif (not constants.DOI_EXACT.fullmatch(new_doi)): #doi needs to be further cleaned/validated\n",
    "        new_doi = constants.DOI_EXTRACT.search(new_doi)\n",
    "        if new_doi:\n",
    "            new_doi = new_doi.group(0)\n",
    "        if (new_doi and new_doi.endswith('.')): #remove period at end of doi if it exists\n",
    "            new_doi = new_doi[:len(new_doi)-1]\n",
    "        if (new_doi is None or not constants.DOI_EXACT.fullmatch(new_doi)): #extraction failed; doi is tarnished\n",
    "            tarnished_doi_ids.append(doi_id)\n",
    "        else:\n",
    "            if new_doi in doi_id_saved:\n",
    "                duplicate_doi_ids[new_doi] = doi_id #new doi exists already; save to duplicates for updating\n",
    "            else:\n",
    "                doi_id.unique_id = new_doi #update doi ID with validated doi\n",
    "                doi_id.save() \n",
    "                doi_id_saved.append(doi_id.unique_id)\n",
    "        \n",
    "        "
   ]
  },
  {
   "cell_type": "code",
   "execution_count": 9,
   "id": "976a6171",
   "metadata": {},
   "outputs": [
    {
     "data": {
      "text/plain": [
       "[]"
      ]
     },
     "execution_count": 9,
     "metadata": {},
     "output_type": "execute_result"
    }
   ],
   "source": [
    "#optional: print out any DOI ids that are still failing validation test;\n",
    "#these DOIs IDs should be in duplicate_doi_ids or tarnished_doi_ids\n",
    "still_dirty_dois = []\n",
    "for doi_id in doi_identifiers:\n",
    "    if not constants.DOI_EXACT.fullmatch(doi_id.unique_id):\n",
    "        still_dirty_dois.append(doi_id)\n",
    "still_dirty_dois"
   ]
  },
  {
   "cell_type": "code",
   "execution_count": 10,
   "id": "180ff537",
   "metadata": {},
   "outputs": [],
   "source": [
    "#pull references with incorrect DOI id and replace that ID with the correct duplicate doi ID\n",
    "for dupe, old_doi in duplicate_doi_ids.items():\n",
    "    for reference in Reference.objects.filter(identifiers__id=old_doi.id):\n",
    "        reference.identifiers.remove(old_doi)\n",
    "        reference.identifiers.add(Identifiers.objects.filter(unique_id=dupe)[0])\n",
    "    old_doi.delete()\n",
    "    "
   ]
  },
  {
   "cell_type": "code",
   "execution_count": 11,
   "id": "99ec64e2",
   "metadata": {},
   "outputs": [],
   "source": [
    "#delete doi IDs that cannot be cleaned\n",
    "for doi in tarnished_doi_ids:\n",
    "    for reference in Reference.objects.filter(identifiers__id=doi.id):\n",
    "        other_ids = reference.identifiers.exclude(id=doi.id)\n",
    "        reference.identifiers.set(other_ids)\n",
    "    doi.delete()"
   ]
  },
  {
   "cell_type": "markdown",
   "id": "64f1fcb3",
   "metadata": {},
   "source": [
    "# creating DOI ids from other metadata"
   ]
  },
  {
   "cell_type": "code",
   "execution_count": 59,
   "id": "4b5b9105",
   "metadata": {},
   "outputs": [],
   "source": [
    "import json"
   ]
  },
  {
   "cell_type": "code",
   "execution_count": 62,
   "id": "7eaa1192",
   "metadata": {},
   "outputs": [],
   "source": [
    "refs = Reference.objects.exclude(identifiers__database=4)"
   ]
  },
  {
   "cell_type": "code",
   "execution_count": 63,
   "id": "9d65aea0",
   "metadata": {
    "scrolled": true
   },
   "outputs": [],
   "source": [
    "#warning: takes a while!\n",
    "#goes through all references without a DOI id and attempts to locate a DOI within the other ids\n",
    "for ref in refs:\n",
    "    for ids in ref.identifiers.all():\n",
    "        if (ids.database==constants.HERO):\n",
    "            try:\n",
    "                doi = json.loads(ids.content)['json']['doi']\n",
    "            except (KeyError):\n",
    "                try:\n",
    "                    doi = json.loads(ids.content)['doi']\n",
    "                except (KeyError):\n",
    "                    doi = None\n",
    "        if (ids.database==constants.RIS or ids.database==constants.PUBMED):\n",
    "            doi = json.loads(ids.content)['doi']\n",
    "        if constants.DOI_EXTRACT.search(str(doi)):\n",
    "            doi = constants.DOI_EXTRACT.search(str(doi)).group(0)\n",
    "            try:\n",
    "                existingID = Identifiers.objects.get(unique_id=doi) #check if doi ID already exists\n",
    "                ref.identifiers.add(existingID)\n",
    "            except (Identifiers.DoesNotExist): #if not, create it and save to reference\n",
    "                newID = Identifiers(unique_id=doi, database=4)\n",
    "                newID.save()\n",
    "                ref.identifiers.add(newID)"
   ]
  }
 ],
 "metadata": {
  "kernelspec": {
   "display_name": "Python 3 (ipykernel)",
   "language": "python",
   "name": "python3"
  },
  "language_info": {
   "codemirror_mode": {
    "name": "ipython",
    "version": 3
   },
   "file_extension": ".py",
   "mimetype": "text/x-python",
   "name": "python",
   "nbconvert_exporter": "python",
   "pygments_lexer": "ipython3",
   "version": "3.9.7"
  }
 },
 "nbformat": 4,
 "nbformat_minor": 5
}
